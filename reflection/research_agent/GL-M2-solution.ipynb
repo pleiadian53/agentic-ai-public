{
 "cells": [
  {
   "cell_type": "markdown",
   "id": "0cdae168",
   "metadata": {},
   "source": [
    "<img src=\"https://learn.deeplearning.ai/assets/dlai-logo.png\"></img>"
   ]
  },
  {
   "cell_type": "markdown",
   "id": "ec95313a",
   "metadata": {},
   "source": [
    "## 🧠 Graded Lab: Reflection in a Research Agent\n",
    "\n",
    "In this graded lab, you’ll implement a simple **agentic workflow** designed to simulate reflective thinking in a writing task. This is one building block of a more complex research agent that will be constructed throughout the course.\n",
    "\n",
    "### 📘 Objective\n",
    "\n",
    "Build a three-step workflow where an LLM writes an essay draft, critiques it, and rewrites it. The focus of the lab is not on the content quality of the essay, but rather on how you orchestrate the **calls to the LLM** and pass intermediate results between steps.\n",
    "\n",
    "### 🛠️ What You’ll Build\n",
    "\n",
    "* **Step 1 – Drafting:** Call the LLM to generate an initial draft of an essay based on a simple prompt.\n",
    "* **Step 2 – Reflection:** Reflect on the draft using a reasoning step. (Optionally, this can be done with a different model.)\n",
    "* **Step 3 – Revision:** Apply the feedback from the reflection to generate a revised version of the essay.\n",
    "\n",
    "### 🧪 Assessment Criteria\n",
    "\n",
    "You’ll be graded based on how well you implement the agent functions. The grading is focused on **code correctness**, not the essay content. Specifically:\n",
    "\n",
    "* Each function should:\n",
    "\n",
    "  1. Successfully make a call to the LLM.\n",
    "  2. Return the correct **type** of output (e.g., a string).\n",
    "* The full workflow should:\n",
    "\n",
    "  * Successfully execute end-to-end.\n",
    "  * Maintain consistent structure and data flow across steps."
   ]
  },
  {
   "cell_type": "markdown",
   "id": "19131dc4",
   "metadata": {},
   "source": [
    "## ⚙️ Loading Essentials\n",
    "\n",
    "Before interacting with the language models, we initialize the `aisuite` client. This setup loads environment variables (e.g., API keys) from a `.env` file to securely authenticate with backend services. The `ai.Client()` instance will be used to make all model calls throughout this workflow."
   ]
  },
  {
   "cell_type": "code",
   "execution_count": 8,
   "id": "9ccd6eeb",
   "metadata": {},
   "outputs": [],
   "source": [
    "from dotenv import load_dotenv\n",
    "\n",
    "load_dotenv()\n",
    "\n",
    "import aisuite as ai\n",
    "\n",
    "client = ai.Client()"
   ]
  },
  {
   "cell_type": "markdown",
   "id": "cb1d6e33",
   "metadata": {},
   "source": [
    "### 📝 Exercise: `generate_draft` Function\n",
    "\n",
    "**Objective**:\n",
    "Write a function called `generate_draft` that takes in a string prompt and uses a language model to generate a complete draft essay.\n",
    "\n",
    "**Inputs**:\n",
    "\n",
    "* `prompt` (str): The essay question or writing prompt.\n",
    "* `model` (str, optional): The model identifier to use. Defaults to `\"openai:gpt-4o\"`.\n",
    "\n",
    "**Output**:\n",
    "\n",
    "* A string representing the full draft of the essay.\n",
    "\n",
    "**Requirements**:\n",
    "\n",
    "* The generated essay should be well-structured, including an introduction, a body, and a conclusion.\n",
    "* The function should send the prompt to the model and return only the model’s response.\n",
    "\n",
    "You do **not** need to modify or analyze the content—just call the model appropriately and return the generated draft.\n"
   ]
  },
  {
   "cell_type": "code",
   "execution_count": 9,
   "id": "dbe325d5",
   "metadata": {},
   "outputs": [],
   "source": [
    "def generate_draft(prompt: str, model: str = \"openai:gpt-4o\") -> str:\n",
    "    instruction = f\"\"\"\n",
    "    Write a well-structured draft essay in response to the following prompt.\n",
    "    The draft should include an introduction, body, and conclusion.\n",
    "\n",
    "    Prompt:\n",
    "    {prompt}\n",
    "    \"\"\"\n",
    "    response = client.chat.completions.create(\n",
    "        model=model,\n",
    "        messages=[{\"role\": \"user\", \"content\": instruction}],\n",
    "        temperature=1.0,\n",
    "    )\n",
    "    return response.choices[0].message.content\n"
   ]
  },
  {
   "cell_type": "markdown",
   "id": "136a95db",
   "metadata": {},
   "source": [
    "### 🔍 Exercise: `reflect_on_draft` Function\n",
    "\n",
    "**Objective**:\n",
    "Write a function called `reflect_on_draft` that takes a previously generated essay draft and uses a language model to provide constructive feedback.\n",
    "\n",
    "**Inputs**:\n",
    "\n",
    "* `draft` (str): The essay text to reflect on.\n",
    "* `model` (str, optional): The model identifier to use. Defaults to `\"openai:o4-mini\"`.\n",
    "\n",
    "**Output**:\n",
    "\n",
    "* A string with feedback in paragraph form.\n",
    "\n",
    "**Requirements**:\n",
    "\n",
    "* The feedback should be critical but constructive.\n",
    "* It should address issues such as structure, clarity, strength of argument, and writing style.\n",
    "* The function should send the draft to the model and return its response.\n",
    "\n",
    "You do **not** need to rewrite the essay at this step—just analyze and reflect on it.\n"
   ]
  },
  {
   "cell_type": "code",
   "execution_count": 10,
   "id": "4cc1a1cf",
   "metadata": {},
   "outputs": [],
   "source": [
    "def reflect_on_draft(draft: str, model: str = \"openai:o4-mini\") -> str:\n",
    "    instruction = f\"\"\"\n",
    "    Reflect critically on the following draft essay.\n",
    "    Identify areas for improvement in structure, clarity, argument strength, or style.\n",
    "    Provide constructive feedback in paragraph form.\n",
    "\n",
    "    Draft:\n",
    "    {draft}\n",
    "    \"\"\"\n",
    "    response = client.chat.completions.create(\n",
    "        model=model,\n",
    "        messages=[{\"role\": \"user\", \"content\": instruction}],\n",
    "        temperature=1.0,\n",
    "    )\n",
    "    return response.choices[0].message.content\n"
   ]
  },
  {
   "cell_type": "markdown",
   "id": "e99bba56",
   "metadata": {},
   "source": [
    "### 🔁 Exercise: `revise_draft` Function\n",
    "\n",
    "**Objective**:\n",
    "Implement a function called `revise_draft` that improves a given essay draft based on feedback from a reflection step.\n",
    "\n",
    "**Inputs**:\n",
    "\n",
    "* `original_draft` (str): The initial version of the essay.\n",
    "* `reflection` (str): Constructive feedback or critique on the draft.\n",
    "* `model` (str, optional): The model identifier to use. Defaults to `\"openai:gpt-4o\"`.\n",
    "\n",
    "**Output**:\n",
    "\n",
    "* A string containing the revised and improved essay.\n",
    "\n",
    "**Requirements**:\n",
    "\n",
    "* The revised draft should address the issues mentioned in the feedback.\n",
    "* It should improve clarity, coherence, argument strength, and overall flow.\n",
    "* The function should use the feedback to guide the revision, and return only the final revised essay.\n"
   ]
  },
  {
   "cell_type": "code",
   "execution_count": 11,
   "id": "f91595e9",
   "metadata": {},
   "outputs": [],
   "source": [
    "def revise_draft(original_draft: str, reflection: str, model: str = \"openai:gpt-4o\") -> str:\n",
    "    instruction = f\"\"\"\n",
    "    Revise the following essay draft using the feedback provided.\n",
    "    Make improvements in clarity, coherence, argumentation, and flow.\n",
    "    Return only the improved essay.\n",
    "\n",
    "    Original Draft:\n",
    "    {original_draft}\n",
    "\n",
    "    Feedback:\n",
    "    {reflection}\n",
    "    \"\"\"\n",
    "    response = client.chat.completions.create(\n",
    "        model=model,\n",
    "        messages=[{\"role\": \"user\", \"content\": instruction}],\n",
    "        temperature=1.0,\n",
    "    )\n",
    "    return response.choices[0].message.content\n"
   ]
  },
  {
   "cell_type": "markdown",
   "id": "c8a10d4c",
   "metadata": {},
   "source": [
    "### 🧪 Test the Reflective Writing Workflow\n",
    "\n",
    "Use the functions you implemented to simulate the complete writing workflow:\n",
    "\n",
    "1. **Generate a draft** in response to the essay prompt.\n",
    "2. **Reflect** on the draft to identify improvements.\n",
    "3. **Revise** the draft using the feedback.\n",
    "\n",
    "Observe the outputs of each step. You do **not** need to modify the outputs — just verify that the workflow runs as expected and each component returns a valid string.\n"
   ]
  },
  {
   "cell_type": "code",
   "execution_count": 12,
   "id": "203c734a",
   "metadata": {},
   "outputs": [
    {
     "name": "stdout",
     "output_type": "stream",
     "text": [
      "📝 Draft:\n",
      "\n",
      "**Title: Navigating the Complex Terrain of Social Media Regulation**\n",
      "\n",
      "**Introduction**\n",
      "\n",
      "In the digital age, social media has emerged as a pivotal force shaping public discourse, influencing societal norms, and even impacting political landscapes. Platforms like Facebook, Twitter, and Instagram have become integral to how information is disseminated and consumed, presenting both opportunities and challenges. While these platforms have facilitated unprecedented connectivity, they have also been criticized for enabling the spread of misinformation, fostering discriminatory behavior, and compromising user privacy. This dual nature has sparked an ongoing debate about whether social media platforms should be regulated by the government. While government regulation might encroach on free speech and innovation, it is crucial to consider the potential benefits it could bring in fostering transparency, accountability, and the protection of democratic values.\n",
      "\n",
      "**Body**\n",
      "\n",
      "One compelling argument for government regulation of social media platforms is the pressing need to combat misinformation and disinformation. These platforms have often been criticized for allowing false information to proliferate, influencing elections, and creating societal divisions. Government regulation could impose stricter standards and protocols for identifying and managing misleading content, thereby preserving the integrity of information shared online. For instance, verifying sources and flagging dubious content could become a mandated practice, ensuring users are better informed.\n",
      "\n",
      "Additionally, the issue of user privacy and data protection further supports the case for regulation. Social media companies collect vast amounts of personal data, which they often monetize through targeted advertising. This practice raises significant privacy concerns. Government regulation could enforce stricter data protection laws and ensure robust user consent policies, thereby safeguarding user information. European Union’s General Data Protection Regulation (GDPR) serves as an exemplary model of how policy can empower users with greater control over their data.\n",
      "\n",
      "However, critics argue that government regulation could stifle innovation and limit freedom of expression—a cornerstone of social media platforms. Oversight might lead to censorship or prioritize certain viewpoints while suppressing others, potentially stymying open discussion and the free exchange of ideas. Furthermore, the bureaucratic nature of government regulation could hinder the agile development of new technologies and features that enhance user experience.\n",
      "\n",
      "Despite these concerns, it is important to recognize that a balanced approach, involving both government oversight and industry self-regulation, could prove effective. A potential solution might lie in the creation of independent regulatory bodies that include governmental, industry, and public representatives. This system could ensure that multiple perspectives are considered, helping to maintain both the dynamism of the industry and the protection of societal interests.\n",
      "\n",
      "**Conclusion**\n",
      "\n",
      "In conclusion, the question of whether social media platforms should be regulated by the government is complex and multifaceted. While there are significant risks associated with over-regulation, the potential benefits of ensuring transparency, accountability, and the protection of democratic processes cannot be dismissed. As social media continues to evolve, so too must our strategies for mitigating its risks while enhancing its benefits. Ultimately, finding the right balance between regulation and innovation will be key to ensuring that social media remains a positive force in society. Hybrid models that incorporate government oversight, industry accountability, and public involvement may offer the most promising path forward in addressing the unique challenges posed by social media platforms.\n",
      "\n",
      "🧠 Feedback:\n",
      "\n",
      "Your essay presents a timely and well‐organized overview of the debate over social media regulation, but it could benefit from a sharper thesis and a more purposeful roadmap in the introduction. Right now you spend several sentences describing the general landscape before hinting at your argument; readers would respond better to an early, concise statement of your position—perhaps by specifying exactly what “balanced regulation” means and previewing the three pillars you’ll examine (misinformation, privacy, and industry innovation). Likewise, consider tightening the transitions between paragraphs so that each section builds more clearly on the last.\n",
      "\n",
      "In terms of argument strength, your points about misinformation and privacy are compelling, but they lack concrete data or case studies that would persuade skeptical readers. When you discuss flagging false content, for example, you might refer to specific experiments conducted by major platforms or cite scholarly research on the effectiveness of fact-checking. Similarly, your mention of the GDPR is a good start, but comparing it with outcomes under California’s CCPA or recent U.S. Federal Trade Commission actions would deepen the analysis and show that you’ve weighed multiple models rather than leaning solely on the European example.\n",
      "\n",
      "Against your opposition point, you rightly note the risk of stifling innovation, but the essay would benefit from engaging with real-world instances of government overreach—such as certain digital censorship laws in non-democratic regimes—to illustrate the fine line regulators must walk. You could then strengthen your hybrid solution by outlining how an independent oversight body might be structured, how its members would be chosen, and what accountability mechanisms (audits, regular public reporting, or sunset clauses on regulations) would guard against mission creep or politicization.\n",
      "\n",
      "Finally, your conclusion neatly recaps the issues but reads more like a summary than a call to action. To leave the reader with a stronger impression, consider ending with a provocative question, a brief blueprint for next steps (for example, suggesting Congress hold a hearing on a proposed oversight commission), or a nod to how ordinary citizens and advocacy groups might participate in shaping policy. Such a closing would not only reinforce your central argument but also transform the essay from an academic overview into a practical invitation to engage with the debate.\n",
      "\n",
      "✍️ Revised:\n",
      "\n",
      "**Title: Striking the Balance: Regulation in the Era of Social Media**\n",
      "\n",
      "**Introduction**\n",
      "\n",
      "Social media has irrevocably transformed how we share information, engage with societal norms, and influence political arenas. While platforms such as Facebook, Twitter, and Instagram forge connections and amplify voices, they also present significant risks, like misinformation, discriminatory behavior, and privacy infringements. Thus, the debate arises: should government intervene to regulate these platforms? Balanced regulation—informed oversight blending government action with industry self-regulation—holds promise. This essay explores three pillars of such regulation: combating misinformation, ensuring data privacy, and fostering innovation.\n",
      "\n",
      "**Body**\n",
      "\n",
      "The urgent need to address misinformation and disinformation on social media platforms underscores the first pillar of regulation. These channels often serve as conduits for false narratives that can skew election outcomes and fuel societal tensions. Government regulation could standardize practices like source verification and content flagging to ensure information integrity. A pilot program by Facebook, in collaboration with fact-checking organizations, reduced misinformation by identified falsehoods by over 80%. Such initiatives illustrate the potential benefits of mandated content scrutiny.\n",
      "\n",
      "The second pillar focuses on enhancing data privacy and protection. Social media companies habitually collect user information for monetization through targeted ads, raising critical privacy concerns. Regulation akin to the European Union’s General Data Protection Regulation (GDPR) could enforce disciplined data handling and consent protocols. When comparing GDPR with outcomes under California’s Consumer Privacy Act (CCPA), a broad framework emerges, offering users robust control over their data and setting precedence for similar U.S. Federal Trade Commission actions.\n",
      "\n",
      "Conversely, critics contend that regulation risks suffocating innovation and curtailing free expression. Social media thrives on its openness and rapid growth. However, examining government overreach, such as digital censorship laws in non-democratic regimes, illustrates the delicate balance regulators must strike. Oversight mechanisms should uphold freedom of speech while ensuring accountability.\n",
      "\n",
      "A promising path forward lies in a hybrid model— the final pillar of balanced regulation—one that involves independent regulatory bodies with governmental, industry, and public representation. This structure would democratize oversight, preventing any single entity from monopolizing control, and implementing accountability measures like regular audits and public reporting. Such an approach addresses the dual objectives of industry dynamism and societal protection.\n",
      "\n",
      "**Conclusion**\n",
      "\n",
      "Regulating social media platforms is a complex challenge that requires nuance and adaptability. While the risk of over-regulation looms large, the potential for a well-structured oversight system to enhance transparency and safeguard democracy is undeniable. As social media continues to evolve, so too must regulatory frameworks, ensuring they mitigate risks while accentuating the benefits. By advocating a hybrid model that marries governmental intervention with industry initiative and public engagement, we can cultivate a more responsible digital landscape. Encouraging lawmakers to explore these regulatory frameworks or inviting public discourse on social media policies could pave the way for meaningful progress. Ultimately, achieving equilibrium between regulation and innovation will ensure that social media remains a catalyst for positive societal change.\n"
     ]
    }
   ],
   "source": [
    "essay_prompt = \"Should social media platforms be regulated by the government?\"\n",
    "\n",
    "# Agente 1 – Draft\n",
    "draft = generate_draft(essay_prompt)\n",
    "print(\"📝 Draft:\\n\")\n",
    "print(draft)\n",
    "\n",
    "# Agente 2 – Reflection\n",
    "feedback = reflect_on_draft(draft)\n",
    "print(\"\\n🧠 Feedback:\\n\")\n",
    "print(feedback)\n",
    "\n",
    "# Agente 3 – Revision\n",
    "revised = revise_draft(draft, feedback)\n",
    "print(\"\\n✍️ Revised:\\n\")\n",
    "print(revised)\n",
    "\n"
   ]
  },
  {
   "cell_type": "markdown",
   "id": "7e3eb897",
   "metadata": {},
   "source": [
    "To better visualize the output of each step in the reflective writing workflow, we use a utility function called `show_output`. This function displays the results of each stage (drafting, reflection, and revision) in styled boxes with custom background and text colors, making it easier to compare and understand the progression of the essay.\n"
   ]
  },
  {
   "cell_type": "code",
   "execution_count": 13,
   "id": "50667ba3",
   "metadata": {},
   "outputs": [
    {
     "data": {
      "text/html": [
       "\n",
       "    <div style=\"\n",
       "        border: 1px solid #ccc;\n",
       "        border-radius: 10px;\n",
       "        padding: 15px;\n",
       "        margin-bottom: 15px;\n",
       "        background-color: #fff8dc;\n",
       "        color: #333333;\n",
       "    \">\n",
       "        <h3 style=\"margin-top: 0;\">Step 1 – Draft</h3>\n",
       "        <pre style=\"\n",
       "            white-space: pre-wrap;\n",
       "            font-family: monospace;\n",
       "            font-size: 14px;\n",
       "        \">**Title: Navigating the Complex Terrain of Social Media Regulation**\n",
       "\n",
       "**Introduction**\n",
       "\n",
       "In the digital age, social media has emerged as a pivotal force shaping public discourse, influencing societal norms, and even impacting political landscapes. Platforms like Facebook, Twitter, and Instagram have become integral to how information is disseminated and consumed, presenting both opportunities and challenges. While these platforms have facilitated unprecedented connectivity, they have also been criticized for enabling the spread of misinformation, fostering discriminatory behavior, and compromising user privacy. This dual nature has sparked an ongoing debate about whether social media platforms should be regulated by the government. While government regulation might encroach on free speech and innovation, it is crucial to consider the potential benefits it could bring in fostering transparency, accountability, and the protection of democratic values.\n",
       "\n",
       "**Body**\n",
       "\n",
       "One compelling argument for government regulation of social media platforms is the pressing need to combat misinformation and disinformation. These platforms have often been criticized for allowing false information to proliferate, influencing elections, and creating societal divisions. Government regulation could impose stricter standards and protocols for identifying and managing misleading content, thereby preserving the integrity of information shared online. For instance, verifying sources and flagging dubious content could become a mandated practice, ensuring users are better informed.\n",
       "\n",
       "Additionally, the issue of user privacy and data protection further supports the case for regulation. Social media companies collect vast amounts of personal data, which they often monetize through targeted advertising. This practice raises significant privacy concerns. Government regulation could enforce stricter data protection laws and ensure robust user consent policies, thereby safeguarding user information. European Union’s General Data Protection Regulation (GDPR) serves as an exemplary model of how policy can empower users with greater control over their data.\n",
       "\n",
       "However, critics argue that government regulation could stifle innovation and limit freedom of expression—a cornerstone of social media platforms. Oversight might lead to censorship or prioritize certain viewpoints while suppressing others, potentially stymying open discussion and the free exchange of ideas. Furthermore, the bureaucratic nature of government regulation could hinder the agile development of new technologies and features that enhance user experience.\n",
       "\n",
       "Despite these concerns, it is important to recognize that a balanced approach, involving both government oversight and industry self-regulation, could prove effective. A potential solution might lie in the creation of independent regulatory bodies that include governmental, industry, and public representatives. This system could ensure that multiple perspectives are considered, helping to maintain both the dynamism of the industry and the protection of societal interests.\n",
       "\n",
       "**Conclusion**\n",
       "\n",
       "In conclusion, the question of whether social media platforms should be regulated by the government is complex and multifaceted. While there are significant risks associated with over-regulation, the potential benefits of ensuring transparency, accountability, and the protection of democratic processes cannot be dismissed. As social media continues to evolve, so too must our strategies for mitigating its risks while enhancing its benefits. Ultimately, finding the right balance between regulation and innovation will be key to ensuring that social media remains a positive force in society. Hybrid models that incorporate government oversight, industry accountability, and public involvement may offer the most promising path forward in addressing the unique challenges posed by social media platforms.</pre>\n",
       "    </div>\n",
       "    "
      ],
      "text/plain": [
       "<IPython.core.display.HTML object>"
      ]
     },
     "metadata": {},
     "output_type": "display_data"
    },
    {
     "data": {
      "text/html": [
       "\n",
       "    <div style=\"\n",
       "        border: 1px solid #ccc;\n",
       "        border-radius: 10px;\n",
       "        padding: 15px;\n",
       "        margin-bottom: 15px;\n",
       "        background-color: #e0f7fa;\n",
       "        color: #222222;\n",
       "    \">\n",
       "        <h3 style=\"margin-top: 0;\">Step 2 – Reflection</h3>\n",
       "        <pre style=\"\n",
       "            white-space: pre-wrap;\n",
       "            font-family: monospace;\n",
       "            font-size: 14px;\n",
       "        \">Your essay presents a timely and well‐organized overview of the debate over social media regulation, but it could benefit from a sharper thesis and a more purposeful roadmap in the introduction. Right now you spend several sentences describing the general landscape before hinting at your argument; readers would respond better to an early, concise statement of your position—perhaps by specifying exactly what “balanced regulation” means and previewing the three pillars you’ll examine (misinformation, privacy, and industry innovation). Likewise, consider tightening the transitions between paragraphs so that each section builds more clearly on the last.\n",
       "\n",
       "In terms of argument strength, your points about misinformation and privacy are compelling, but they lack concrete data or case studies that would persuade skeptical readers. When you discuss flagging false content, for example, you might refer to specific experiments conducted by major platforms or cite scholarly research on the effectiveness of fact-checking. Similarly, your mention of the GDPR is a good start, but comparing it with outcomes under California’s CCPA or recent U.S. Federal Trade Commission actions would deepen the analysis and show that you’ve weighed multiple models rather than leaning solely on the European example.\n",
       "\n",
       "Against your opposition point, you rightly note the risk of stifling innovation, but the essay would benefit from engaging with real-world instances of government overreach—such as certain digital censorship laws in non-democratic regimes—to illustrate the fine line regulators must walk. You could then strengthen your hybrid solution by outlining how an independent oversight body might be structured, how its members would be chosen, and what accountability mechanisms (audits, regular public reporting, or sunset clauses on regulations) would guard against mission creep or politicization.\n",
       "\n",
       "Finally, your conclusion neatly recaps the issues but reads more like a summary than a call to action. To leave the reader with a stronger impression, consider ending with a provocative question, a brief blueprint for next steps (for example, suggesting Congress hold a hearing on a proposed oversight commission), or a nod to how ordinary citizens and advocacy groups might participate in shaping policy. Such a closing would not only reinforce your central argument but also transform the essay from an academic overview into a practical invitation to engage with the debate.</pre>\n",
       "    </div>\n",
       "    "
      ],
      "text/plain": [
       "<IPython.core.display.HTML object>"
      ]
     },
     "metadata": {},
     "output_type": "display_data"
    },
    {
     "data": {
      "text/html": [
       "\n",
       "    <div style=\"\n",
       "        border: 1px solid #ccc;\n",
       "        border-radius: 10px;\n",
       "        padding: 15px;\n",
       "        margin-bottom: 15px;\n",
       "        background-color: #f3e5f5;\n",
       "        color: #222222;\n",
       "    \">\n",
       "        <h3 style=\"margin-top: 0;\">Step 3 – Revision</h3>\n",
       "        <pre style=\"\n",
       "            white-space: pre-wrap;\n",
       "            font-family: monospace;\n",
       "            font-size: 14px;\n",
       "        \">**Title: Striking the Balance: Regulation in the Era of Social Media**\n",
       "\n",
       "**Introduction**\n",
       "\n",
       "Social media has irrevocably transformed how we share information, engage with societal norms, and influence political arenas. While platforms such as Facebook, Twitter, and Instagram forge connections and amplify voices, they also present significant risks, like misinformation, discriminatory behavior, and privacy infringements. Thus, the debate arises: should government intervene to regulate these platforms? Balanced regulation—informed oversight blending government action with industry self-regulation—holds promise. This essay explores three pillars of such regulation: combating misinformation, ensuring data privacy, and fostering innovation.\n",
       "\n",
       "**Body**\n",
       "\n",
       "The urgent need to address misinformation and disinformation on social media platforms underscores the first pillar of regulation. These channels often serve as conduits for false narratives that can skew election outcomes and fuel societal tensions. Government regulation could standardize practices like source verification and content flagging to ensure information integrity. A pilot program by Facebook, in collaboration with fact-checking organizations, reduced misinformation by identified falsehoods by over 80%. Such initiatives illustrate the potential benefits of mandated content scrutiny.\n",
       "\n",
       "The second pillar focuses on enhancing data privacy and protection. Social media companies habitually collect user information for monetization through targeted ads, raising critical privacy concerns. Regulation akin to the European Union’s General Data Protection Regulation (GDPR) could enforce disciplined data handling and consent protocols. When comparing GDPR with outcomes under California’s Consumer Privacy Act (CCPA), a broad framework emerges, offering users robust control over their data and setting precedence for similar U.S. Federal Trade Commission actions.\n",
       "\n",
       "Conversely, critics contend that regulation risks suffocating innovation and curtailing free expression. Social media thrives on its openness and rapid growth. However, examining government overreach, such as digital censorship laws in non-democratic regimes, illustrates the delicate balance regulators must strike. Oversight mechanisms should uphold freedom of speech while ensuring accountability.\n",
       "\n",
       "A promising path forward lies in a hybrid model— the final pillar of balanced regulation—one that involves independent regulatory bodies with governmental, industry, and public representation. This structure would democratize oversight, preventing any single entity from monopolizing control, and implementing accountability measures like regular audits and public reporting. Such an approach addresses the dual objectives of industry dynamism and societal protection.\n",
       "\n",
       "**Conclusion**\n",
       "\n",
       "Regulating social media platforms is a complex challenge that requires nuance and adaptability. While the risk of over-regulation looms large, the potential for a well-structured oversight system to enhance transparency and safeguard democracy is undeniable. As social media continues to evolve, so too must regulatory frameworks, ensuring they mitigate risks while accentuating the benefits. By advocating a hybrid model that marries governmental intervention with industry initiative and public engagement, we can cultivate a more responsible digital landscape. Encouraging lawmakers to explore these regulatory frameworks or inviting public discourse on social media policies could pave the way for meaningful progress. Ultimately, achieving equilibrium between regulation and innovation will ensure that social media remains a catalyst for positive societal change.</pre>\n",
       "    </div>\n",
       "    "
      ],
      "text/plain": [
       "<IPython.core.display.HTML object>"
      ]
     },
     "metadata": {},
     "output_type": "display_data"
    }
   ],
   "source": [
    "from utils import show_output\n",
    "\n",
    "essay_prompt = \"Should social media platforms be regulated by the government?\"\n",
    "\n",
    "show_output(\"Step 1 – Draft\", draft, background=\"#fff8dc\", text_color=\"#333333\")\n",
    "show_output(\"Step 2 – Reflection\", feedback, background=\"#e0f7fa\", text_color=\"#222222\")\n",
    "show_output(\"Step 3 – Revision\", revised, background=\"#f3e5f5\", text_color=\"#222222\")\n"
   ]
  }
 ],
 "metadata": {
  "kernelspec": {
   "display_name": "venv",
   "language": "python",
   "name": "python3"
  },
  "language_info": {
   "codemirror_mode": {
    "name": "ipython",
    "version": 3
   },
   "file_extension": ".py",
   "mimetype": "text/x-python",
   "name": "python",
   "nbconvert_exporter": "python",
   "pygments_lexer": "ipython3",
   "version": "3.12.7"
  }
 },
 "nbformat": 4,
 "nbformat_minor": 5
}
