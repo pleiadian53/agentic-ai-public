{
 "cells": [
  {
   "cell_type": "markdown",
   "id": "0cdae168",
   "metadata": {},
   "source": [
    "<img src=\"https://learn.deeplearning.ai/assets/dlai-logo.png\"></img>"
   ]
  },
  {
   "cell_type": "markdown",
   "id": "ec95313a",
   "metadata": {},
   "source": [
    "## 🧠 Graded Lab: Reflection in a Research Agent\n",
    "\n",
    "In this graded lab, you’ll implement a simple **agentic workflow** designed to simulate reflective thinking in a writing task. This is one building block of a more complex research agent that will be constructed throughout the course.\n",
    "\n",
    "### 📘 Objective\n",
    "\n",
    "Build a three-step workflow where an LLM writes an essay draft, critiques it, and rewrites it. The focus of the lab is not on the content quality of the essay, but rather on how you orchestrate the **calls to the LLM** and pass intermediate results between steps.\n",
    "\n",
    "### 🛠️ What You’ll Build\n",
    "\n",
    "* **Step 1 – Drafting:** Call the LLM to generate an initial draft of an essay based on a simple prompt.\n",
    "* **Step 2 – Reflection:** Reflect on the draft using a reasoning step. (Optionally, this can be done with a different model.)\n",
    "* **Step 3 – Revision:** Apply the feedback from the reflection to generate a revised version of the essay.\n",
    "\n",
    "### 🧪 Assessment Criteria\n",
    "\n",
    "You’ll be graded based on how well you implement the agent functions. The grading is focused on **code correctness**, not the essay content. Specifically:\n",
    "\n",
    "* Each function should:\n",
    "\n",
    "  1. Successfully make a call to the LLM.\n",
    "  2. Return the correct **type** of output (e.g., a string).\n",
    "* The full workflow should:\n",
    "\n",
    "  * Successfully execute end-to-end.\n",
    "  * Maintain consistent structure and data flow across steps."
   ]
  },
  {
   "cell_type": "markdown",
   "id": "19131dc4",
   "metadata": {},
   "source": [
    "## ⚙️ Loading Essentials\n",
    "\n",
    "Before interacting with the language models, we initialize the `aisuite` client. This setup loads environment variables (e.g., API keys) from a `.env` file to securely authenticate with backend services. The `ai.Client()` instance will be used to make all model calls throughout this workflow."
   ]
  },
  {
   "cell_type": "code",
   "execution_count": 8,
   "id": "9ccd6eeb",
   "metadata": {},
   "outputs": [],
   "source": [
    "from dotenv import load_dotenv\n",
    "\n",
    "load_dotenv()\n",
    "\n",
    "import aisuite as ai\n",
    "\n",
    "client = ai.Client()"
   ]
  },
  {
   "cell_type": "markdown",
   "id": "cb1d6e33",
   "metadata": {},
   "source": [
    "### 📝 Exercise: `generate_draft` Function\n",
    "\n",
    "**Objective**:\n",
    "Write a function called `generate_draft` that takes in a string prompt and uses a language model to generate a complete draft essay.\n",
    "\n",
    "**Inputs**:\n",
    "\n",
    "* `prompt` (str): The essay question or writing prompt.\n",
    "* `model` (str, optional): The model identifier to use. Defaults to `\"openai:gpt-4o\"`.\n",
    "\n",
    "**Output**:\n",
    "\n",
    "* A string representing the full draft of the essay.\n",
    "\n",
    "**Requirements**:\n",
    "\n",
    "* The generated essay should be well-structured, including an introduction, a body, and a conclusion.\n",
    "* The function should send the prompt to the model and return only the model’s response.\n",
    "\n",
    "You do **not** need to modify or analyze the content—just call the model appropriately and return the generated draft.\n"
   ]
  },
  {
   "cell_type": "code",
   "execution_count": null,
   "id": "dbe325d5",
   "metadata": {},
   "outputs": [],
   "source": [
    "# Write your `generate_draft` function here"
   ]
  },
  {
   "cell_type": "markdown",
   "id": "136a95db",
   "metadata": {},
   "source": [
    "### 🔍 Exercise: `reflect_on_draft` Function\n",
    "\n",
    "**Objective**:\n",
    "Write a function called `reflect_on_draft` that takes a previously generated essay draft and uses a language model to provide constructive feedback.\n",
    "\n",
    "**Inputs**:\n",
    "\n",
    "* `draft` (str): The essay text to reflect on.\n",
    "* `model` (str, optional): The model identifier to use. Defaults to `\"openai:o4-mini\"`.\n",
    "\n",
    "**Output**:\n",
    "\n",
    "* A string with feedback in paragraph form.\n",
    "\n",
    "**Requirements**:\n",
    "\n",
    "* The feedback should be critical but constructive.\n",
    "* It should address issues such as structure, clarity, strength of argument, and writing style.\n",
    "* The function should send the draft to the model and return its response.\n",
    "\n",
    "You do **not** need to rewrite the essay at this step—just analyze and reflect on it.\n"
   ]
  },
  {
   "cell_type": "code",
   "execution_count": null,
   "id": "4cc1a1cf",
   "metadata": {},
   "outputs": [],
   "source": [
    "# Write your `reflect_on_draft` function here"
   ]
  },
  {
   "cell_type": "markdown",
   "id": "e99bba56",
   "metadata": {},
   "source": [
    "### 🔁 Exercise: `revise_draft` Function\n",
    "\n",
    "**Objective**:\n",
    "Implement a function called `revise_draft` that improves a given essay draft based on feedback from a reflection step.\n",
    "\n",
    "**Inputs**:\n",
    "\n",
    "* `original_draft` (str): The initial version of the essay.\n",
    "* `reflection` (str): Constructive feedback or critique on the draft.\n",
    "* `model` (str, optional): The model identifier to use. Defaults to `\"openai:gpt-4o\"`.\n",
    "\n",
    "**Output**:\n",
    "\n",
    "* A string containing the revised and improved essay.\n",
    "\n",
    "**Requirements**:\n",
    "\n",
    "* The revised draft should address the issues mentioned in the feedback.\n",
    "* It should improve clarity, coherence, argument strength, and overall flow.\n",
    "* The function should use the feedback to guide the revision, and return only the final revised essay.\n"
   ]
  },
  {
   "cell_type": "code",
   "execution_count": null,
   "id": "f91595e9",
   "metadata": {},
   "outputs": [],
   "source": [
    "# Write your `revise_draft` function here"
   ]
  },
  {
   "cell_type": "markdown",
   "id": "c8a10d4c",
   "metadata": {},
   "source": [
    "### 🧪 Test the Reflective Writing Workflow\n",
    "\n",
    "Use the functions you implemented to simulate the complete writing workflow:\n",
    "\n",
    "1. **Generate a draft** in response to the essay prompt.\n",
    "2. **Reflect** on the draft to identify improvements.\n",
    "3. **Revise** the draft using the feedback.\n",
    "\n",
    "Observe the outputs of each step. You do **not** need to modify the outputs — just verify that the workflow runs as expected and each component returns a valid string.\n",
    "\n",
    ">**👉 Uncomment the code below once your functions are ready to test them in action.**\n",
    "\n"
   ]
  },
  {
   "cell_type": "code",
   "execution_count": null,
   "id": "203c734a",
   "metadata": {},
   "outputs": [],
   "source": [
    "essay_prompt = \"Should social media platforms be regulated by the government?\"\n",
    "\n",
    "# Agente 1 – Draft\n",
    "#draft = generate_draft(essay_prompt)\n",
    "#print(\"📝 Draft:\\n\")\n",
    "#print(draft)\n",
    "\n",
    "# Agente 2 – Reflection\n",
    "#feedback = reflect_on_draft(draft)\n",
    "#print(\"\\n🧠 Feedback:\\n\")\n",
    "#print(feedback)\n",
    "\n",
    "# Agente 3 – Revision\n",
    "#revised = revise_draft(draft, feedback)\n",
    "#print(\"\\n✍️ Revised:\\n\")\n",
    "#print(revised)\n",
    "\n"
   ]
  },
  {
   "cell_type": "markdown",
   "id": "7e3eb897",
   "metadata": {},
   "source": [
    "To better visualize the output of each step in the reflective writing workflow, we use a utility function called `show_output`. This function displays the results of each stage (drafting, reflection, and revision) in styled boxes with custom background and text colors, making it easier to compare and understand the progression of the essay.\n",
    "\n",
    ">**👉 Uncomment the code below once your functions are ready to test them in action.**\n",
    "\n"
   ]
  },
  {
   "cell_type": "code",
   "execution_count": null,
   "id": "50667ba3",
   "metadata": {},
   "outputs": [],
   "source": [
    "from utils import show_output\n",
    "\n",
    "essay_prompt = \"Should social media platforms be regulated by the government?\"\n",
    "\n",
    "#show_output(\"Step 1 – Draft\", draft, background=\"#fff8dc\", text_color=\"#333333\")\n",
    "#show_output(\"Step 2 – Reflection\", feedback, background=\"#e0f7fa\", text_color=\"#222222\")\n",
    "#show_output(\"Step 3 – Revision\", revised, background=\"#f3e5f5\", text_color=\"#222222\")\n"
   ]
  }
 ],
 "metadata": {
  "kernelspec": {
   "display_name": "venv",
   "language": "python",
   "name": "python3"
  },
  "language_info": {
   "codemirror_mode": {
    "name": "ipython",
    "version": 3
   },
   "file_extension": ".py",
   "mimetype": "text/x-python",
   "name": "python",
   "nbconvert_exporter": "python",
   "pygments_lexer": "ipython3",
   "version": "3.12.7"
  }
 },
 "nbformat": 4,
 "nbformat_minor": 5
}
