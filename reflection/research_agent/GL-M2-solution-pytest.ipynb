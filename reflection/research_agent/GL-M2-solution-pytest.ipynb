{
 "cells": [
  {
   "cell_type": "markdown",
   "id": "0cdae168",
   "metadata": {},
   "source": [
    "<img src=\"https://learn.deeplearning.ai/assets/dlai-logo.png\"></img>"
   ]
  },
  {
   "cell_type": "markdown",
   "id": "ec95313a",
   "metadata": {},
   "source": [
    "## 🧠 Graded Lab: Reflection in a Research Agent\n",
    "\n",
    "In this graded lab, you’ll implement a simple **agentic workflow** designed to simulate reflective thinking in a writing task. This is one building block of a more complex research agent that will be constructed throughout the course.\n",
    "\n",
    "### 📘 Objective\n",
    "\n",
    "Build a three-step workflow where an LLM writes an essay draft, critiques it, and rewrites it. The focus of the lab is not on the content quality of the essay, but rather on how you orchestrate the **calls to the LLM** and pass intermediate results between steps.\n",
    "\n",
    "### 🛠️ What You’ll Build\n",
    "\n",
    "* **Step 1 – Drafting:** Call the LLM to generate an initial draft of an essay based on a simple prompt.\n",
    "* **Step 2 – Reflection:** Reflect on the draft using a reasoning step. (Optionally, this can be done with a different model.)\n",
    "* **Step 3 – Revision:** Apply the feedback from the reflection to generate a revised version of the essay.\n",
    "\n",
    "### 🧪 Assessment Criteria\n",
    "\n",
    "You’ll be graded based on how well you implement the agent functions. The grading is focused on **code correctness**, not the essay content. Specifically:\n",
    "\n",
    "* Each function should:\n",
    "\n",
    "  1. Successfully make a call to the LLM.\n",
    "  2. Return the correct **type** of output (e.g., a string).\n",
    "* The full workflow should:\n",
    "\n",
    "  * Successfully execute end-to-end.\n",
    "  * Maintain consistent structure and data flow across steps."
   ]
  },
  {
   "cell_type": "markdown",
   "id": "19131dc4",
   "metadata": {},
   "source": [
    "## ⚙️ Loading Essentials\n",
    "\n",
    "Before interacting with the language models, we initialize the `aisuite` client. This setup loads environment variables (e.g., API keys) from a `.env` file to securely authenticate with backend services. The `ai.Client()` instance will be used to make all model calls throughout this workflow."
   ]
  },
  {
   "cell_type": "code",
   "execution_count": 1,
   "id": "9ccd6eeb",
   "metadata": {},
   "outputs": [],
   "source": [
    "from dotenv import load_dotenv\n",
    "\n",
    "load_dotenv()\n",
    "\n",
    "import aisuite as ai\n",
    "\n",
    "client = ai.Client()"
   ]
  },
  {
   "cell_type": "markdown",
   "id": "cb1d6e33",
   "metadata": {},
   "source": [
    "### 📝 Exercise: `generate_draft` Function\n",
    "\n",
    "**Objective**:\n",
    "Write a function called `generate_draft` that takes in a string prompt and uses a language model to generate a complete draft essay.\n",
    "\n",
    "**Inputs**:\n",
    "\n",
    "* `prompt` (str): The essay question or writing prompt.\n",
    "* `model` (str, optional): The model identifier to use. Defaults to `\"openai:gpt-4o\"`.\n",
    "\n",
    "**Output**:\n",
    "\n",
    "* A string representing the full draft of the essay.\n",
    "\n",
    "**Requirements**:\n",
    "\n",
    "* The generated essay should be well-structured, including an introduction, a body, and a conclusion.\n",
    "* The function should send the prompt to the model and return only the model’s response.\n",
    "\n",
    "You do **not** need to modify or analyze the content—just call the model appropriately and return the generated draft.\n"
   ]
  },
  {
   "cell_type": "code",
   "execution_count": 2,
   "id": "dbe325d5",
   "metadata": {},
   "outputs": [],
   "source": [
    "def generate_draft(prompt: str, model: str = \"openai:gpt-4o\") -> str:\n",
    "    instruction = f\"\"\"\n",
    "    Write a well-structured draft essay in response to the following prompt.\n",
    "    The draft should include an introduction, body, and conclusion.\n",
    "\n",
    "    Prompt:\n",
    "    {prompt}\n",
    "    \"\"\"\n",
    "    response = client.chat.completions.create(\n",
    "        model=model,\n",
    "        messages=[{\"role\": \"user\", \"content\": instruction}],\n",
    "        temperature=1.0,\n",
    "    )\n",
    "    return response.choices[0].message.content\n"
   ]
  },
  {
   "cell_type": "markdown",
   "id": "136a95db",
   "metadata": {},
   "source": [
    "### 🔍 Exercise: `reflect_on_draft` Function\n",
    "\n",
    "**Objective**:\n",
    "Write a function called `reflect_on_draft` that takes a previously generated essay draft and uses a language model to provide constructive feedback.\n",
    "\n",
    "**Inputs**:\n",
    "\n",
    "* `draft` (str): The essay text to reflect on.\n",
    "* `model` (str, optional): The model identifier to use. Defaults to `\"openai:o4-mini\"`.\n",
    "\n",
    "**Output**:\n",
    "\n",
    "* A string with feedback in paragraph form.\n",
    "\n",
    "**Requirements**:\n",
    "\n",
    "* The feedback should be critical but constructive.\n",
    "* It should address issues such as structure, clarity, strength of argument, and writing style.\n",
    "* The function should send the draft to the model and return its response.\n",
    "\n",
    "You do **not** need to rewrite the essay at this step—just analyze and reflect on it.\n"
   ]
  },
  {
   "cell_type": "code",
   "execution_count": 3,
   "id": "4cc1a1cf",
   "metadata": {},
   "outputs": [],
   "source": [
    "def reflect_on_draft(draft: str, model: str = \"openai:o4-mini\") -> str:\n",
    "    instruction = f\"\"\"\n",
    "    Reflect critically on the following draft essay.\n",
    "    Identify areas for improvement in structure, clarity, argument strength, or style.\n",
    "    Provide constructive feedback in paragraph form.\n",
    "\n",
    "    Draft:\n",
    "    {draft}\n",
    "    \"\"\"\n",
    "    response = client.chat.completions.create(\n",
    "        model=model,\n",
    "        messages=[{\"role\": \"user\", \"content\": instruction}],\n",
    "        temperature=1.0,\n",
    "    )\n",
    "    return response.choices[0].message.content\n"
   ]
  },
  {
   "cell_type": "markdown",
   "id": "e99bba56",
   "metadata": {},
   "source": [
    "### 🔁 Exercise: `revise_draft` Function\n",
    "\n",
    "**Objective**:\n",
    "Implement a function called `revise_draft` that improves a given essay draft based on feedback from a reflection step.\n",
    "\n",
    "**Inputs**:\n",
    "\n",
    "* `original_draft` (str): The initial version of the essay.\n",
    "* `reflection` (str): Constructive feedback or critique on the draft.\n",
    "* `model` (str, optional): The model identifier to use. Defaults to `\"openai:gpt-4o\"`.\n",
    "\n",
    "**Output**:\n",
    "\n",
    "* A string containing the revised and improved essay.\n",
    "\n",
    "**Requirements**:\n",
    "\n",
    "* The revised draft should address the issues mentioned in the feedback.\n",
    "* It should improve clarity, coherence, argument strength, and overall flow.\n",
    "* The function should use the feedback to guide the revision, and return only the final revised essay.\n"
   ]
  },
  {
   "cell_type": "code",
   "execution_count": 4,
   "id": "f91595e9",
   "metadata": {},
   "outputs": [],
   "source": [
    "def revise_draft(original_draft: str, reflection: str, model: str = \"openai:gpt-4o\") -> str:\n",
    "    instruction = f\"\"\"\n",
    "    Revise the following essay draft using the feedback provided.\n",
    "    Make improvements in clarity, coherence, argumentation, and flow.\n",
    "    Return only the improved essay.\n",
    "\n",
    "    Original Draft:\n",
    "    {original_draft}\n",
    "\n",
    "    Feedback:\n",
    "    {reflection}\n",
    "    \"\"\"\n",
    "    response = client.chat.completions.create(\n",
    "        model=model,\n",
    "        messages=[{\"role\": \"user\", \"content\": instruction}],\n",
    "        temperature=1.0,\n",
    "    )\n",
    "    return response.choices[0].message.content\n"
   ]
  },
  {
   "cell_type": "markdown",
   "id": "c8a10d4c",
   "metadata": {},
   "source": [
    "### 🧪 Test the Reflective Writing Workflow\n",
    "\n",
    "Use the functions you implemented to simulate the complete writing workflow:\n",
    "\n",
    "1. **Generate a draft** in response to the essay prompt.\n",
    "2. **Reflect** on the draft to identify improvements.\n",
    "3. **Revise** the draft using the feedback.\n",
    "\n",
    "Observe the outputs of each step. You do **not** need to modify the outputs — just verify that the workflow runs as expected and each component returns a valid string.\n"
   ]
  },
  {
   "cell_type": "code",
   "execution_count": 5,
   "id": "203c734a",
   "metadata": {},
   "outputs": [
    {
     "name": "stdout",
     "output_type": "stream",
     "text": [
      "📝 Draft:\n",
      "\n",
      "**Title: The Case for Government Regulation of Social Media Platforms**\n",
      "\n",
      "**Introduction**\n",
      "\n",
      "In the digital age, social media platforms have become integral to daily communication, information dissemination, and social interaction. With billions of users worldwide, platforms like Facebook, Twitter, Instagram, and TikTok wield enormous influence over public discourse. This unprecedented power raises critical questions about their role in society and the need for regulation. Proponents of government oversight argue that regulation is necessary to protect users from harmful content, safeguard privacy, and ensure the integrity of democratic processes. Opponents, on the other hand, warn that government intervention could stifle innovation, infringe on free speech, and create bureaucratic inefficiencies. This essay will examine these contrasting viewpoints and argue that, despite legitimate concerns, government regulation is necessary to address the challenges posed by the unchecked power of social media platforms.\n",
      "\n",
      "**Body**\n",
      "\n",
      "One of the primary arguments for regulating social media platforms is the need to protect users from harmful content. The proliferation of fake news, hate speech, and misinformation on these platforms underscores the risks posed by unregulated digital spaces. For instance, during significant political events, false information can spread rapidly, influencing public opinion and potentially altering election outcomes. Government intervention could enforce standards for content moderation, ensuring that harmful and misleading information is swiftly identified and removed.\n",
      "\n",
      "Another critical issue is the protection of user privacy. Social media platforms collect vast amounts of personal data, often with minimal transparency and oversight. This data is sometimes sold to third parties, leading to privacy breaches that can have severe consequences for users. Government regulation could enforce stringent data protection standards, ensuring that users retain control over their personal information and that companies face penalties for data misuse. Regulations like the General Data Protection Regulation (GDPR) in the European Union provide a blueprint for how governmental oversight can effectively safeguard user privacy.\n",
      "\n",
      "Furthermore, social media platforms' significant influence over public discourse necessitates regulation to uphold democratic integrity. Algorithms that prioritize sensationalist content can polarize societies by reinforcing echo chambers and amplifying extreme viewpoints. By implementing regulations that promote transparency in how algorithms function, governments could help mitigate these effects, fostering a more balanced and informed public dialogue.\n",
      "\n",
      "Nevertheless, critics argue that government regulation may stifle innovation. Social media companies thrive on creativity and rapid adaptation, qualities that could be hindered by bureaucratic oversight. However, this critique overlooks the potential for a regulatory framework that encourages innovation while setting boundaries for ethical conduct, much like regulations in other industries such as finance and healthcare.\n",
      "\n",
      "Concerns about free speech rights also surface in discussions about regulation. There is apprehension that government involvement could lead to censorship or favoritism. However, regulation need not dictate speech content but rather establish guidelines for transparency, accountability, and fairness, ensuring that platforms do not arbitrarily restrict user expression.\n",
      "\n",
      "**Conclusion**\n",
      "\n",
      "In conclusion, the regulation of social media platforms by the government is a necessary step to address the myriad of challenges they present in today's digital landscape. While opponents of regulation raise valid concerns about innovation and free speech, these issues can be addressed through well-considered policies that balance oversight with creative freedom. Ultimately, the goal of regulation should not be to limit the power of social media but to harness it responsibly, protecting users, ensuring privacy, and maintaining the integrity of democratic systems. As social media continues to evolve, so too must the frameworks governing it, safeguarding the interests of users and society alike.\n",
      "\n",
      "🧠 Feedback:\n",
      "\n",
      "The draft offers a clear and timely thesis, and its organization—moving from the need for content moderation to privacy protection, democratic integrity, and counterarguments—creates a logical progression. To strengthen the structure further, consider sharpening your introduction with a more specific thesis statement that previews the precise mechanisms of regulation you will endorse (for example, independent oversight boards or data‐usage audits), rather than broadly arguing “government regulation is necessary.” This will help readers anticipate the essay’s direction and make each subsequent section feel more focused.\n",
      "\n",
      "In terms of clarity and argument strength, each body paragraph benefits from relevant examples, but you might deepen your analysis by incorporating empirical data or case studies. For instance, you mention the spread of misinformation during elections—citing a specific study or incident (such as the 2016 U.S. election or Brazil’s 2018 election) would lend concrete weight to your claims. When discussing privacy, referencing actual GDPR enforcement actions or statistics on data breaches could illustrate how regulation has succeeded (or fallen short) in practice. These details will reinforce your credibility and help readers grasp the real‐world stakes.\n",
      "\n",
      "Your treatment of counterarguments is commendable, yet it can be made more robust by engaging with the most nuanced concerns—such as the risk of regulatory capture or the possibility that well‐intentioned rules produce unintended consequences, like favoring large incumbents over startups. Addressing these subtleties, and then explaining how your recommended framework would guard against them, will demonstrate that you have thought through potential pitfalls and are proposing a balanced, workable solution.\n",
      "\n",
      "Finally, on style and flow, watch for repetition—phrases like “government regulation” and “social media platforms” appear frequently and can be varied. Shortening some of the longer, more complex sentences will also increase readability: for example, break apart clauses to strengthen your topic sentences and ensure each paragraph begins with a clear idea. You might also improve transitions by signaling contrasts (“Despite these benefits…,” “Conversely…,”) or cause and effect (“Consequently…,” “As a result…”) to guide the reader smoothly from one point to the next. A concluding suggestion might be to outline next steps or potential legislative models, so your closing moves beyond summary into actionable insight. Incorporating these refinements will elevate the essay’s persuasiveness and give it a more polished, authoritative voice.\n",
      "\n",
      "✍️ Revised:\n",
      "\n",
      "**Title: Strategic Regulatory Measures for Social Media Platforms**\n",
      "\n",
      "**Introduction**\n",
      "\n",
      "In today's digital era, social media platforms are central to global communication and information exchange. With billions of users, platforms like Facebook, Twitter, Instagram, and TikTok shape public discourse and influence societal norms. Their immense power emphasizes the need for regulation to address risks such as exposure to harmful content, privacy breaches, and threats to democratic integrity. Key regulatory mechanisms—such as independent oversight boards and comprehensive data-usage audits—could mitigate these challenges effectively. While concerns about innovation and free speech remain, this essay argues that a balanced regulatory approach is crucial for responsibly harnessing the power of social media.\n",
      "\n",
      "**Body**\n",
      "\n",
      "A compelling argument for regulating social media platforms is the urgent need to shield users from harmful content. Platforms have become breeding grounds for fake news, hate speech, and misinformation, significantly impacting public perception. For instance, the spread of false information during critical elections, such as the 2016 U.S. presidential election and the 2018 Brazilian election, shows how unregulated digital spaces can distort democratic processes. Implementing independent oversight boards could ensure adherence to content moderation standards, swiftly addressing misleading content.\n",
      "\n",
      "Moreover, the issue of user privacy demands rigorous governmental oversight. Social media companies accumulate extensive personal data, often exploited without user consent. This was evident in incidents like the Cambridge Analytica scandal, where data misuse had dire consequences. Adopting stringent data-usage audits, akin to the General Data Protection Regulation (GDPR) in the European Union, could enforce transparency and empower users to maintain control over their personal information. Notably, GDPR enforcement actions have demonstrated the potential for robust privacy protection.\n",
      "\n",
      "The influence of social media platforms on public discourse further underscores the need for regulation to safeguard democratic integrity. Algorithms that prioritize sensationalist content risk entrenching echo chambers and amplifying extreme views. Regulatory measures promoting algorithmic transparency could counteract these effects, fostering more balanced public dialogue. By understanding algorithmic decisions, users can engage with content more critically and diversify their information sources.\n",
      "\n",
      "Conversely, critics express concern that regulation may stifle innovation, as social media thrives on creativity and adaptability. However, a nuanced regulatory framework can simultaneously encourage innovation and impose ethical boundaries, much like successful regulations in industries like healthcare. Furthermore, apprehensions about infringing on free speech rights reflect fears of censorship. Nonetheless, by establishing guidelines for accountability, regulation can ensure fair expression without dictating speech content.\n",
      "\n",
      "**Conclusion**\n",
      "\n",
      "In conclusion, strategic government regulation of social media platforms addresses pressing challenges while balancing the preservation of innovation and free speech. Addressing nuanced concerns such as regulatory capture and unintended market consequences ensures a thoughtful, balanced approach. Suggested mechanisms include independent oversight boards for content moderation, comprehensive data-usage audits for user privacy, and transparent algorithm regulations for democratic protection. To forge a path forward, legislative models need development, harnessing platforms' power for users' and society's benefit. As social media evolves, solidifying regulatory frameworks is critical to safeguarding user rights and democratic values.\n"
     ]
    }
   ],
   "source": [
    "essay_prompt = \"Should social media platforms be regulated by the government?\"\n",
    "\n",
    "# Agente 1 – Draft\n",
    "draft = generate_draft(essay_prompt)\n",
    "print(\"📝 Draft:\\n\")\n",
    "print(draft)\n",
    "\n",
    "# Agente 2 – Reflection\n",
    "feedback = reflect_on_draft(draft)\n",
    "print(\"\\n🧠 Feedback:\\n\")\n",
    "print(feedback)\n",
    "\n",
    "# Agente 3 – Revision\n",
    "revised = revise_draft(draft, feedback)\n",
    "print(\"\\n✍️ Revised:\\n\")\n",
    "print(revised)\n",
    "\n"
   ]
  },
  {
   "cell_type": "markdown",
   "id": "cfa6e024",
   "metadata": {},
   "source": [
    "## Grading"
   ]
  },
  {
   "cell_type": "code",
   "execution_count": 6,
   "id": "eb892521",
   "metadata": {},
   "outputs": [
    {
     "name": "stdout",
     "output_type": "stream",
     "text": [
      "✅ test_generate_draft passed\n",
      "✅ test_reflect_on_draft passed\n",
      "✅ test_revise_draft passed\n",
      "\n",
      "✅ 3/3 tests passed.\n"
     ]
    }
   ],
   "source": [
    "from utils_grading import run_all_tests\n",
    "\n",
    "run_all_tests(generate_draft, reflect_on_draft, revise_draft)\n"
   ]
  }
 ],
 "metadata": {
  "kernelspec": {
   "display_name": "venv",
   "language": "python",
   "name": "python3"
  },
  "language_info": {
   "codemirror_mode": {
    "name": "ipython",
    "version": 3
   },
   "file_extension": ".py",
   "mimetype": "text/x-python",
   "name": "python",
   "nbconvert_exporter": "python",
   "pygments_lexer": "ipython3",
   "version": "3.12.7"
  }
 },
 "nbformat": 4,
 "nbformat_minor": 5
}
